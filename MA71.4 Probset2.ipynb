{
 "cells": [
  {
   "cell_type": "code",
   "execution_count": 1,
   "id": "c5686b86",
   "metadata": {},
   "outputs": [],
   "source": [
    "import pandas as pd\n",
    "import numpy as np"
   ]
  },
  {
   "cell_type": "markdown",
   "id": "0c2e20e5",
   "metadata": {},
   "source": [
    "#### Question 4"
   ]
  },
  {
   "cell_type": "code",
   "execution_count": 7,
   "id": "5a189e88",
   "metadata": {},
   "outputs": [
    {
     "data": {
      "text/plain": [
       "2"
      ]
     },
     "execution_count": 7,
     "metadata": {},
     "output_type": "execute_result"
    }
   ],
   "source": [
    "2"
   ]
  },
  {
   "cell_type": "markdown",
   "id": "a8125e90",
   "metadata": {},
   "source": [
    "#### Question 5"
   ]
  },
  {
   "cell_type": "code",
   "execution_count": 6,
   "id": "ce937b0e",
   "metadata": {},
   "outputs": [
    {
     "data": {
      "text/plain": [
       "1.2604805340156755"
      ]
     },
     "execution_count": 6,
     "metadata": {},
     "output_type": "execute_result"
    }
   ],
   "source": [
    "def montecarloq5(N):\n",
    "    u = np.random.uniform(0,1,N)\n",
    "    x = u**(1/3)\n",
    "    g = np.sqrt(1 + x**2)\n",
    "    return g.mean()\n",
    "\n",
    "montecarloq5(100000000)"
   ]
  },
  {
   "cell_type": "code",
   "execution_count": null,
   "id": "adca0d52",
   "metadata": {},
   "outputs": [],
   "source": []
  }
 ],
 "metadata": {
  "kernelspec": {
   "display_name": "base",
   "language": "python",
   "name": "python3"
  },
  "language_info": {
   "codemirror_mode": {
    "name": "ipython",
    "version": 3
   },
   "file_extension": ".py",
   "mimetype": "text/x-python",
   "name": "python",
   "nbconvert_exporter": "python",
   "pygments_lexer": "ipython3",
   "version": "3.12.4"
  }
 },
 "nbformat": 4,
 "nbformat_minor": 5
}
